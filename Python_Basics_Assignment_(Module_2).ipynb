{
  "nbformat": 4,
  "nbformat_minor": 0,
  "metadata": {
    "colab": {
      "provenance": [],
      "collapsed_sections": [
        "zP5g1GziLvDg",
        "OAKxvCENMCc4",
        "IHO6_xwfM9hA",
        "REMSLYS_Qpm3",
        "An-1CmD7R4ZH",
        "2NtmnNRLSmQ_",
        "ikCjBqpZTwuu",
        "0txHiejeUkYu",
        "mmFtSmtTWG5G",
        "q0hs774bXZ7u",
        "ZPRIas6fX0EW",
        "3-TxOq6CYMH-",
        "fd6WvM51YctN",
        "8W8BeG2BbB99",
        "74syBy8_baKF"
      ]
    },
    "kernelspec": {
      "name": "python3",
      "display_name": "Python 3"
    },
    "language_info": {
      "name": "python"
    }
  },
  "cells": [
    {
      "cell_type": "code",
      "execution_count": null,
      "metadata": {
        "id": "5y2aY-x0gr8e"
      },
      "outputs": [],
      "source": []
    },
    {
      "cell_type": "markdown",
      "source": [
        "# Data Analytics Module 1"
      ],
      "metadata": {
        "id": "QQFWY85dg-gU"
      }
    },
    {
      "cell_type": "markdown",
      "source": [
        "## Python Basics Questions"
      ],
      "metadata": {
        "id": "WKPf3jBnLU6g"
      }
    },
    {
      "cell_type": "markdown",
      "source": [
        "#### Q1. What is Python, and why is it popular?\n",
        "\n",
        "#### Answer:\n",
        "Python is a high-level, interpreted programming language known for its simplicity and readability. It is widely used for various applications, including web development, data analysis, artificial intelligence, scientific computing, automation, and more.\n",
        "\n",
        "\n",
        "Python is popular for several compelling reasons, making it a favorite among beginners and professionals alike. Here's why:\n",
        "\n",
        "1. Simple and Readable Syntax\n",
        "\n",
        "  Python’s syntax is clean and resembles natural language, reducing the learning curve for new programmers.\n",
        "\n",
        "  It allows developers to write less code compared to other languages, making it highly productive.\n",
        "\n",
        "2. Versatility\n",
        "\n",
        "  Python is a general-purpose language that supports multiple domains, such as web development, data science, machine learning, artificial intelligence, automation, scientific computing, and more.\n",
        "\n",
        "  It adapts to various programming paradigms, including procedural, object-oriented, and functional programming.\n",
        "\n",
        "3. Extensive Libraries and Frameworks\n",
        "\n",
        "  Python’s vast standard library provides built-in modules for tasks like file I/O, data handling, and web development.\n",
        "\n",
        "  Popular libraries like NumPy, pandas, TensorFlow, and Django save time and effort by offering pre-built solutions for complex problems.\n",
        "\n",
        "4. Cross-Platform Compatibility\n",
        "\n",
        "  Python works seamlessly across multiple operating systems, such as Windows, macOS, and Linux, without requiring major changes to the code.\n",
        "\n",
        "5. Strong Community Support\n",
        "\n",
        "  A large and active community ensures abundant resources like tutorials, documentation, forums, and open-source projects.\n",
        "\n",
        "  Beginners can easily find help and contribute to Python projects.\n",
        "\n",
        "6. Applications in Trending Technologies\n",
        "\n",
        "  Python is heavily used in cutting-edge fields such as:\n",
        "\n",
        "  Data Science and Analytics: With libraries like pandas and matplotlib for data manipulation and visualization.\n",
        "\n",
        "  Machine Learning and AI: TensorFlow, PyTorch, and Scikit-learn make it easy to build and deploy models.\n",
        "\n",
        "  Web Development: Frameworks like Django and Flask speed up web app development.\n",
        "7. Ease of Integration\n",
        "\n",
        "  Python integrates well with other programming languages and tools, making it a great choice for multi-language projects.\n",
        "\n",
        "8. Beginner-Friendly and Ideal for Education\n",
        "\n",
        "  Its simplicity makes Python a favorite in schools and coding bootcamps.\n",
        "\n",
        "  Concepts like variables, loops, and conditionals are straightforward to learn.\n",
        "\n",
        "9. High Demand in the Job Market\n",
        "\n",
        "  Python developers are in high demand across industries, offering lucrative career opportunities.\n",
        "\n",
        "  Its relevance in data science, AI, and automation makes Python an essential skill for tech professionals.\n",
        "\n",
        "10. Open Source and Free\n",
        "\n",
        "  Python is open-source and free to use, making it accessible for individuals and organizations of all sizes."
      ],
      "metadata": {
        "id": "3QUzU6L3iDak"
      }
    },
    {
      "cell_type": "markdown",
      "source": [
        "#### Q2. What is an interpreter in Python?\n",
        "\n",
        "#### Answer:\n",
        "\n",
        "An interpreter in Python is a program that executes Python code line by line, translating it into machine-readable instructions at runtime. Unlike compiled languages, Python does not require prior compilation; instead, the interpreter processes the code directly, making it easier to test and debug. It converts the code into an intermediate bytecode, which is then executed by the Python Virtual Machine (PVM). Popular Python interpreters include CPython (the default), PyPy, and Jython, each suited for different platforms and performance needs. The interpreter's line-by-line execution makes Python dynamic, flexible, and beginner-friendly."
      ],
      "metadata": {
        "id": "jtp6d0uqjA0T"
      }
    },
    {
      "cell_type": "markdown",
      "source": [
        "#### Q3. What are pre-defined keywords in Python?\n",
        "\n",
        "#### Answer:\n",
        "\n",
        "Predefined keywords in Python are reserved words that have specific meanings and purposes within the language. These keywords are part of the Python syntax and cannot be used as identifiers (e.g., variable names, function names) because they are integral to the structure and functionality of Python programs.\n",
        "\n",
        "False, None, True, and, as, assert, async, await, break, class, continue, def, del, elif, else, except, finally, for, from, global, if, import, in, is, lambda, nonlocal, not, or, pass, raise, return, try, while, with, yield"
      ],
      "metadata": {
        "id": "HCQWCsxqkYtr"
      }
    },
    {
      "cell_type": "markdown",
      "source": [
        "#### Q4. Can keywords be used as variable names?\n",
        "\n",
        "#### Answer\n",
        "\n",
        "No, keywords in Python cannot be used as variable names. Keywords are reserved by the Python language for specific purposes (e.g., controlling flow, defining functions or classes), and using them as variable names will result in a syntax error.\n",
        "\n",
        "For example, the following code will raise an error:\n",
        "\n",
        "      if = 5  \n",
        "\n",
        "      SyntaxError: invalid syntax"
      ],
      "metadata": {
        "id": "mLSDQa3NlSc6"
      }
    },
    {
      "cell_type": "markdown",
      "source": [
        "#### Q5. What is mutability in Python?\n",
        "\n",
        "#### Answer:\n",
        "\n",
        "Mutability in Python refers to the ability of an object to be modified after it is created. Mutable objects, like lists, dictionaries, and sets, allow changes to their content (e.g., modifying, adding, or removing elements), while immutable objects, such as tuples, strings, and numbers, cannot be altered once they are created. Any attempt to change an immutable object results in the creation of a new object. Understanding mutability is important in Python, as it affects how data is passed between functions and how objects are managed in memory."
      ],
      "metadata": {
        "id": "ja7-TliLlujS"
      }
    },
    {
      "cell_type": "markdown",
      "source": [
        "#### Q6. Why are lists mutable, but tuples are immutable?\n",
        "\n",
        "#### Answer:\n",
        "\n",
        "Lists in Python are mutable because they are designed to be flexible and dynamic, allowing for changes in their content. The ability to modify lists, such as adding, removing, or updating elements, makes them suitable for situations where the data collection may evolve over time. For example, when working with dynamic datasets, user inputs, or managing ordered collections where the size or elements might need to change, mutable lists provide an efficient and practical solution. This mutability allows lists to be more versatile in many use cases, such as dynamic arrays or queues, where the contents must be updated during program execution.\n",
        "\n",
        "Tuples are immutable in Python to provide several benefits, primarily related to safety, efficiency, and consistency. The immutability of tuples ensures that their contents cannot be altered once they are created, which provides data integrity and prevents accidental modification. This makes tuples ideal for representing fixed collections of data, such as constants or records that should remain unchanged throughout a program. Additionally, since tuples are immutable, they can be used as keys in dictionaries or elements in sets, where immutability is necessary for reliable hashing and comparison. The immutability also allows Python to optimize memory usage and performance, making tuples faster and more memory-efficient than mutable types like lists."
      ],
      "metadata": {
        "id": "norwMH32mEIa"
      }
    },
    {
      "cell_type": "markdown",
      "source": [
        "#### Q7. What is the difference between “==” and “is” operators in Python\n",
        "\n",
        "#### Answer:\n",
        "\n",
        "- The \"==\" operator checks if the values of two objects are equal. It compares the contents of the objects, and if they have the same value, it returns True.\n",
        "This operator works for both mutable and immutable objects\n",
        "\n",
        "  Example:\n",
        "\n",
        "        a = [1, 2, 3]\n",
        "\n",
        "        b = [1, 2, 3]\n",
        "\n",
        "        print(a == b)  # Output: True, because the values are the same\n",
        "\n",
        "\n",
        "\n",
        "- The \"is\" operator checks if two variables refer to the same object in memory (i.e., it compares their identity, not their values). It returns True if both variables point to the exact same object. The \"is\" operator is typically used to compare whether two variables are the same object, not just equal in value.\n",
        "\n",
        "  Example:\n",
        "\n",
        "        a = [1, 2, 3]\n",
        "\n",
        "        b = [1, 2, 3]\n",
        "\n",
        "        print(a is b)  # Output: False, because a and b are two different objects in memory\n",
        "\n"
      ],
      "metadata": {
        "id": "hYJ9OOKOoQSJ"
      }
    },
    {
      "cell_type": "markdown",
      "source": [
        "#### Q8. What are logical operators in Python\n",
        "\n",
        "#### Answer:\n",
        "\n",
        "- In Python, logical operators are used to perform logical operations on Boolean values (True or False). They help in combining conditional statements and making decisions based on multiple conditions. The three main logical operators in Python are:\n",
        "\n",
        "  1. and:\n",
        "\n",
        "    The and operator returns True if both conditions are True. If either condition is False, it returns False.\n",
        "\n",
        "  2. or:\n",
        "\n",
        "    The or operator returns True if at least one of the conditions is True. It returns False only if both conditions are False.\n",
        "\n",
        "  3. not:\n",
        "\n",
        "    The not operator is used to invert the Boolean value. If the value is True, it returns False, and if the value is False, it returns True."
      ],
      "metadata": {
        "id": "S5RrTbXHz6n3"
      }
    },
    {
      "cell_type": "markdown",
      "source": [
        "#### Q9. What is type casting in Python?\n",
        "\n",
        "### Answer:\n",
        "\n",
        "Type casting in Python refers to the process of converting one data type into another. Python provides built-in functions to cast (convert) variables to different types, allowing you to work with data in the desired format.\n",
        "\n",
        "Types of Type Casting:\n",
        "\n",
        "1. Implicit Type Casting (Automatic Casting):\n",
        "\n",
        "  - Python automatically converts a smaller data type to a larger data type to prevent data loss. This is done by Python behind the scenes.\n",
        "\n",
        "  - For example, when an integer is added to a float, Python implicitly converts the integer to a float.\n",
        "\n",
        "2. Explicit Type Casting (Manual Casting):\n",
        "\n",
        "  - You can manually convert one data type to another using Python’s built-in casting functions, like int(), float(), str(), etc.\n",
        "\n",
        "  - This type of casting is explicit because you are specifying the conversion.\n",
        "\n",
        "Common Casting Functions:\n",
        "\n",
        "- int(): Converts a number or string to an integer.\n",
        "\n",
        "- float(): Converts a number or string to a floating-point number.\n",
        "\n",
        "- str(): Converts a number or other object to a string.\n",
        "\n",
        "- bool(): Converts a value to a boolean (True or False)."
      ],
      "metadata": {
        "id": "0Q6J1r6e2ZtH"
      }
    },
    {
      "cell_type": "markdown",
      "source": [
        "#### Q10. What is the difference between implicit and explicit type casting?\n",
        "\n",
        "#### Asnwer:\n",
        "\n",
        "The difference between implicit and explicit type casting in Python lies in how the conversion between data types is performed:\n",
        "\n",
        "1. Implicit Type Casting (Automatic Casting):\n",
        "\n",
        "  - Definition: Implicit type casting occurs automatically by Python when it needs to convert a smaller data type into a larger one without the programmer’s explicit instruction.\n",
        "\n",
        "  - When It Happens: It happens when Python is sure there won't be any loss of data, such as converting an integer to a float during arithmetic operations.\n",
        "\n",
        "    Example:\n",
        "\n",
        "          x = 5       # Integer\n",
        "\n",
        "          y = 3.2     # Float\n",
        "\n",
        "          result = x + y  # Implicitly converts x (int) to float\n",
        "\n",
        "          print(result)  # Output: 8.2\n",
        "\n",
        "    In this case, x is automatically converted to a float because it is added to a float (y).\n",
        "\n",
        "    Implicit casting is safe, and Python does it automatically whenever needed.\n",
        "\n",
        "2. Explicit Type Casting (Manual Casting):\n",
        "\n",
        "  - Definition: Explicit type casting requires the programmer to manually convert one data type to another using built-in functions (like int(), float(), str()).\n",
        "\n",
        "  - When It Happens: It happens when the programmer intentionally wants to change a variable's type to perform specific operations or meet function requirements.\n",
        "\n",
        "    Example:\n",
        "\n",
        "          x = 5.7    # Float\n",
        "\n",
        "          y = int(x) # Explicit casting to integer\n",
        "\n",
        "          print(y)   # Output: 5\n",
        "\n",
        "    Here, the float value x is explicitly converted to an int using the int() function.\n",
        "\n",
        "    Explicit casting is done by the programmer, and can potentially lead to data loss (e.g., truncating decimals when casting a float to an int)."
      ],
      "metadata": {
        "id": "WowgzdAd36Tu"
      }
    },
    {
      "cell_type": "markdown",
      "source": [
        "#### Q11.  What is the purpose of conditional statements in Python?\n",
        "\n",
        "### Answer:\n",
        "\n",
        "Conditional statements in Python are used to make decisions in a program based on certain conditions. They allow the program to execute different blocks of code depending on whether a specific condition is True or False. This enables the program to behave dynamically, responding to different inputs or situations.\n",
        "\n",
        "Purpose of Conditional Statements:\n",
        "\n",
        "- Decision Making: They allow the program to choose between different actions based on logical conditions. For example, executing a specific piece of code only if a user’s input meets a certain requirement.\n",
        "\n",
        "- Control Flow: Conditional statements control the flow of execution by determining which path (block of code) the program should take. This makes it possible to handle multiple scenarios with different outcomes.\n",
        "\n",
        "- Error Handling: They can be used to check for certain conditions (like invalid input or errors) and handle them accordingly, ensuring the program runs smoothly."
      ],
      "metadata": {
        "id": "JFOu77rr5v_m"
      }
    },
    {
      "cell_type": "markdown",
      "source": [
        "#### Q12. How does the elif statement work?\n",
        "\n",
        "#### Answer:\n",
        "\n",
        "The elif (short for \"else if\") statement in Python is used to check multiple conditions in a sequence after an initial if statement. It provides an alternative condition to check if the preceding if or elif conditions were not True. If the elif condition evaluates to True, its associated block of code is executed, and the remaining conditions are skipped. You can have multiple elif statements, allowing for multiple conditions to be tested sequentially.\n",
        "\n",
        "How elif Works:\n",
        "\n",
        "1. The if statement is evaluated first. If the condition is True, the block of code under if is executed, and the rest of the elif or else conditions are skipped.\n",
        "2. If the if condition is False, the program checks each elif condition in the order they appear. If an elif condition evaluates to True, its corresponding block of code is executed.\n",
        "3. If none of the if or elif conditions are True, the code under the else statement (if present) is executed."
      ],
      "metadata": {
        "id": "Ahb75_d36T_O"
      }
    },
    {
      "cell_type": "markdown",
      "source": [
        "#### Q13. What is the difference between for and while loops?\n",
        "\n",
        "#### Answer:\n",
        "\n",
        "The for and while loops are both used to repeatedly execute a block of code, but they differ in how and when the looping condition is evaluated, and in their intended use cases:\n",
        "\n",
        "\n",
        "1. for Loop:\n",
        "- Definition: The for loop is generally used when the number of iterations is known beforehand, or when you need to iterate over a sequence (such as a list, tuple, string, or range).\n",
        "\n",
        "- How It Works: It iterates over each element in the sequence, executing the loop body for each item.\n",
        "- Use Case: When you know the number of iterations or need to iterate over an iterable (like a list or a range).\n",
        "\n",
        "2. while Loop:\n",
        "- Definition: The while loop is used when the number of iterations is not known ahead of time, and the loop continues executing as long as a specified condition is True.\n",
        "\n",
        "- How It Works: The loop runs until the condition evaluates to False. The condition is checked before every iteration.\n",
        "\n",
        "- Use Case: When you want the loop to continue running as long as some condition holds true, or when the number of iterations is uncertain."
      ],
      "metadata": {
        "id": "hp0S-Iaj6x7W"
      }
    },
    {
      "cell_type": "markdown",
      "source": [
        "#### Q14. Describe a scenario where a while loop is more suitable than a for loop.\n",
        "\n",
        "#### Answer:\n",
        "\n",
        "A while loop is more suitable than a for loop when the number of iterations is not known beforehand and the loop needs to continue running based on a condition that can change dynamically during execution.\n",
        "\n",
        "Scenario: User Input Validation\n",
        "\n",
        "Imagine a scenario where you want to repeatedly ask a user for a valid password until they enter one that meets specific criteria, such as being at least 8 characters long and containing both letters and numbers. The loop will continue as long as the user input is invalid, and the number of iterations is uncertain, depending on how many times the user enters invalid passwords.\n",
        "\n",
        "Example:\n",
        "\n",
        "    password = \"\"\n",
        "\n",
        "    # While loop to validate user input\n",
        "\n",
        "    while len(password) < 8 or not any(char.isdigit() for char in password) or not any(char.isalpha() for char in password):\n",
        "\n",
        "    password = input(\"Enter a password (at least 8 characters, containing both letters and numbers): \")\n",
        "\n",
        "    print(\"Password accepted.\")\n",
        "\n",
        "Explanation:\n",
        "\n",
        "- Condition: The while loop checks if the password is at least 8 characters long and contains both letters and numbers. If the password doesn't meet these conditions, the loop continues asking the user for a new password.\n",
        "\n",
        "- Why while is Suitable: The number of iterations is unknown, as it depends on when the user enters a valid password. The loop will continue until the condition is met, and there is no predefined number of times the user will need to input a password.\n"
      ],
      "metadata": {
        "id": "TVtftd8n7b2u"
      }
    },
    {
      "cell_type": "markdown",
      "source": [
        "## Practical Questions"
      ],
      "metadata": {
        "id": "C2uxJhDdLgpo"
      }
    },
    {
      "cell_type": "markdown",
      "source": [
        "#### Q1. Write a Python program to print \"Hello, World!\""
      ],
      "metadata": {
        "id": "zP5g1GziLvDg"
      }
    },
    {
      "cell_type": "code",
      "source": [
        "# Answer to Question No. 1\n",
        "print(\"Hello, World!\")"
      ],
      "metadata": {
        "colab": {
          "base_uri": "https://localhost:8080/"
        },
        "id": "pTsHWcNtQbNX",
        "outputId": "e7dfbdaf-8e75-47fa-e508-de42965f9913"
      },
      "execution_count": null,
      "outputs": [
        {
          "output_type": "stream",
          "name": "stdout",
          "text": [
            "Hello, World!\n"
          ]
        }
      ]
    },
    {
      "cell_type": "markdown",
      "source": [
        "#### Q2. Write a Python program that displays your name and age."
      ],
      "metadata": {
        "id": "OAKxvCENMCc4"
      }
    },
    {
      "cell_type": "code",
      "source": [
        "# Answer to Q1\n",
        "name = \"Prabhath Borkar P\"\n",
        "age = 32\n",
        "\n",
        "\n",
        "print(\"Name:\", name)\n",
        "print(\"Age:\", age)"
      ],
      "metadata": {
        "colab": {
          "base_uri": "https://localhost:8080/"
        },
        "id": "ya2CzNGNLlIo",
        "outputId": "269f7ea7-f3a3-4b01-e155-2ab8e2dec2bb"
      },
      "execution_count": null,
      "outputs": [
        {
          "output_type": "stream",
          "name": "stdout",
          "text": [
            "Name: Prabhath Borkar P\n",
            "Age: 32\n"
          ]
        }
      ]
    },
    {
      "cell_type": "markdown",
      "source": [
        "#### Q3. Write code to print all the pre-defined keywords in Python using the keyword library"
      ],
      "metadata": {
        "id": "IHO6_xwfM9hA"
      }
    },
    {
      "cell_type": "code",
      "source": [
        "print(\"Python Keywords:\")\n",
        "\n",
        "print(keyword.kwlist)"
      ],
      "metadata": {
        "colab": {
          "base_uri": "https://localhost:8080/"
        },
        "id": "cYMce6GrM3z4",
        "outputId": "79d80f14-8c15-412f-e55d-21fc3f9d08a9"
      },
      "execution_count": null,
      "outputs": [
        {
          "output_type": "stream",
          "name": "stdout",
          "text": [
            "Python Keywords:\n",
            "['False', 'None', 'True', 'and', 'as', 'assert', 'async', 'await', 'break', 'class', 'continue', 'def', 'del', 'elif', 'else', 'except', 'finally', 'for', 'from', 'global', 'if', 'import', 'in', 'is', 'lambda', 'nonlocal', 'not', 'or', 'pass', 'raise', 'return', 'try', 'while', 'with', 'yield']\n"
          ]
        }
      ]
    },
    {
      "cell_type": "code",
      "source": [],
      "metadata": {
        "id": "OcLpvoRVP1DX"
      },
      "execution_count": null,
      "outputs": []
    },
    {
      "cell_type": "markdown",
      "source": [
        "#### Q4. Write a program that checks if a given word is a Python keyword."
      ],
      "metadata": {
        "id": "REMSLYS_Qpm3"
      }
    },
    {
      "cell_type": "code",
      "source": [
        "# Input from the user\n",
        "word = input(\"Enter a word to check if it is a Python keyword: \")\n",
        "\n",
        "# Check and display result\n",
        "if is_keyword(word):\n",
        "    print(f\"'{word}' is a Python keyword.\")\n",
        "else:\n",
        "    print(f\"'{word}' is not a Python keyword.\")"
      ],
      "metadata": {
        "colab": {
          "base_uri": "https://localhost:8080/"
        },
        "id": "vIvoWeYxRJGf",
        "outputId": "d9e7dd0b-3cea-4b66-e65b-4e3b34fda3d5"
      },
      "execution_count": null,
      "outputs": [
        {
          "output_type": "stream",
          "name": "stdout",
          "text": [
            "Enter a word to check if it is a Python keyword: class\n",
            "'class' is a Python keyword.\n"
          ]
        }
      ]
    },
    {
      "cell_type": "markdown",
      "source": [
        "#### Q5. Create a list and tuple in Python, and demonstrate how attempting to change an element works differently for each."
      ],
      "metadata": {
        "id": "An-1CmD7R4ZH"
      }
    },
    {
      "cell_type": "code",
      "source": [
        "# Create a list\n",
        "my_list = [10, 20, 30, 40]\n",
        "\n",
        "# Create a tuple\n",
        "my_tuple = (10, 20, 30, 40)\n",
        "\n",
        "# Attempt to change an element in the list\n",
        "print(\"Before changing list:\", my_list)\n",
        "my_list[2] = 100  # This will work\n",
        "print(\"After changing list:\", my_list)\n",
        "\n",
        "# Attempt to change an element in the tuple\n",
        "print(\"Before changing tuple:\", my_tuple)\n",
        "try:\n",
        "    my_tuple[2] = 100  # This will raise an error\n",
        "except TypeError as e:\n",
        "    print(\"Error while changing tuple:\", e)"
      ],
      "metadata": {
        "colab": {
          "base_uri": "https://localhost:8080/"
        },
        "id": "zELcw24PRQEn",
        "outputId": "e02d4cc8-f036-4085-cfb9-2405124b3fe1"
      },
      "execution_count": null,
      "outputs": [
        {
          "output_type": "stream",
          "name": "stdout",
          "text": [
            "Before changing list: [10, 20, 30, 40]\n",
            "After changing list: [10, 20, 100, 40]\n",
            "Before changing tuple: (10, 20, 30, 40)\n",
            "Error while changing tuple: 'tuple' object does not support item assignment\n"
          ]
        }
      ]
    },
    {
      "cell_type": "markdown",
      "source": [
        "#### Q6.  Write a function to demonstrate the behavior of mutable and immutable arguments."
      ],
      "metadata": {
        "id": "2NtmnNRLSmQ_"
      }
    },
    {
      "cell_type": "code",
      "source": [
        "# Function to demonstrate mutable and immutable argument behavior\n",
        "def demo_mutable_immutable(arg1, arg2):\n",
        "    print(\"Before modifying:\")\n",
        "    print(\"arg1 (immutable):\", arg1)\n",
        "    print(\"arg2 (mutable):\", arg2)\n",
        "\n",
        "    # Modifying the immutable argument (this won't change the original)\n",
        "    arg1 += 5\n",
        "    # Modifying the mutable argument (this will change the original)\n",
        "    arg2.append(6)\n",
        "\n",
        "    print(\"\\nInside function after modification:\")\n",
        "    print(\"arg1 (immutable):\", arg1)\n",
        "    print(\"arg2 (mutable):\", arg2)\n",
        "\n",
        "# Immutable argument (int)\n",
        "immutable_arg = 10\n",
        "\n",
        "# Mutable argument (list)\n",
        "mutable_arg = [1, 2, 3, 4]\n",
        "\n",
        "# Call the function\n",
        "demo_mutable_immutable(immutable_arg, mutable_arg)\n",
        "\n",
        "# Show the values outside the function\n",
        "print(\"\\nOutside function after function call:\")\n",
        "print(\"immutable_arg:\", immutable_arg)\n",
        "print(\"mutable_arg:\", mutable_arg)"
      ],
      "metadata": {
        "colab": {
          "base_uri": "https://localhost:8080/"
        },
        "id": "IZgsAlq5SOvX",
        "outputId": "fb017917-9387-4258-d8ca-8385419d3689"
      },
      "execution_count": null,
      "outputs": [
        {
          "output_type": "stream",
          "name": "stdout",
          "text": [
            "Before modifying:\n",
            "arg1 (immutable): 10\n",
            "arg2 (mutable): [1, 2, 3, 4]\n",
            "\n",
            "Inside function after modification:\n",
            "arg1 (immutable): 15\n",
            "arg2 (mutable): [1, 2, 3, 4, 6]\n",
            "\n",
            "Outside function after function call:\n",
            "immutable_arg: 10\n",
            "mutable_arg: [1, 2, 3, 4, 6]\n"
          ]
        }
      ]
    },
    {
      "cell_type": "markdown",
      "source": [
        "#### Q7. Write a function to demonstrate the behavior of mutable and immutable arguments."
      ],
      "metadata": {
        "id": "ikCjBqpZTwuu"
      }
    },
    {
      "cell_type": "code",
      "source": [
        "# Function to demonstrate mutable and immutable argument behavior\n",
        "def demo_mutable_immutable(immutable_arg, mutable_arg):\n",
        "    print(\"Before modifying:\")\n",
        "    print(\"immutable_arg:\", immutable_arg)\n",
        "    print(\"mutable_arg:\", mutable_arg)\n",
        "\n",
        "    # Trying to modify the immutable argument (this won't affect the original)\n",
        "    immutable_arg = (5, 6, 7)  # Re-assigning the tuple, doesn't affect the original\n",
        "    # Modifying the mutable argument (this will affect the original)\n",
        "    mutable_arg[\"key3\"] = \"value3\"\n",
        "\n",
        "    print(\"\\nInside function after modification:\")\n",
        "    print(\"immutable_arg:\", immutable_arg)\n",
        "    print(\"mutable_arg:\", mutable_arg)\n",
        "\n",
        "# Immutable argument (tuple)\n",
        "immutable_tuple = (1, 2, 3)\n",
        "\n",
        "# Mutable argument (dictionary)\n",
        "mutable_dict = {\"key1\": \"value1\", \"key2\": \"value2\"}\n",
        "\n",
        "# Call the function with mutable and immutable arguments\n",
        "demo_mutable_immutable(immutable_tuple, mutable_dict)\n",
        "\n",
        "# Show the values outside the function\n",
        "print(\"\\nOutside function after function call:\")\n",
        "print(\"immutable_tuple:\", immutable_tuple)\n",
        "print(\"mutable_dict:\", mutable_dict)"
      ],
      "metadata": {
        "colab": {
          "base_uri": "https://localhost:8080/"
        },
        "id": "-FI8pn75TUJn",
        "outputId": "3a1abf7c-8fea-4633-9c21-88383cd5fb27"
      },
      "execution_count": null,
      "outputs": [
        {
          "output_type": "stream",
          "name": "stdout",
          "text": [
            "Before modifying:\n",
            "immutable_arg: (1, 2, 3)\n",
            "mutable_arg: {'key1': 'value1', 'key2': 'value2'}\n",
            "\n",
            "Inside function after modification:\n",
            "immutable_arg: (5, 6, 7)\n",
            "mutable_arg: {'key1': 'value1', 'key2': 'value2', 'key3': 'value3'}\n",
            "\n",
            "Outside function after function call:\n",
            "immutable_tuple: (1, 2, 3)\n",
            "mutable_dict: {'key1': 'value1', 'key2': 'value2', 'key3': 'value3'}\n"
          ]
        }
      ]
    },
    {
      "cell_type": "markdown",
      "source": [
        "#### Q8. Write a program to demonstrate the use of logical operators."
      ],
      "metadata": {
        "id": "0txHiejeUkYu"
      }
    },
    {
      "cell_type": "code",
      "source": [
        "# Function to demonstrate logical operators with user input\n",
        "def check_access(age, is_member):\n",
        "    # Using the 'and' operator (both conditions must be True)\n",
        "    if age >= 18 and is_member:\n",
        "        print(\"Access granted: You are an adult and a member.\")\n",
        "    else:\n",
        "        print(\"Access denied: Either you are not an adult or not a member.\")\n",
        "\n",
        "    # Using the 'or' operator (at least one condition must be True)\n",
        "    if age >= 18 or is_member:\n",
        "        print(\"You either have the age or the membership to access the service.\")\n",
        "    else:\n",
        "        print(\"Access denied: You must be either an adult or a member.\")\n",
        "\n",
        "    # Using the 'not' operator (negates the condition)\n",
        "    if not is_member:\n",
        "        print(\"You are not a member, please consider joining.\")\n",
        "    else:\n",
        "        print(\"You are a member, welcome back!\")\n",
        "\n",
        "# Example values for age and membership status\n",
        "age = 20\n",
        "is_member = False\n",
        "\n",
        "# Call the function with example values\n",
        "check_access(age, is_member)"
      ],
      "metadata": {
        "colab": {
          "base_uri": "https://localhost:8080/"
        },
        "id": "Bd84h-1TUi4u",
        "outputId": "5dd3534f-ce6e-448b-c0a5-00e5e64dec3d"
      },
      "execution_count": null,
      "outputs": [
        {
          "output_type": "stream",
          "name": "stdout",
          "text": [
            "Access denied: Either you are not an adult or not a member.\n",
            "You either have the age or the membership to access the service.\n",
            "You are not a member, please consider joining.\n"
          ]
        }
      ]
    },
    {
      "cell_type": "code",
      "source": [
        "# Function to check if a student passes or fails\n",
        "def check_pass_status(grade, attendance):\n",
        "    # Using the 'and' operator (both conditions must be True to pass)\n",
        "    if grade >= 35 and attendance >= 75:\n",
        "        print(\"You passed the course!\")\n",
        "    else:\n",
        "        print(\"You did not pass the course.\")\n",
        "\n",
        "    # Using the 'or' operator (at least one condition must be True to pass)\n",
        "    if grade >= 35 or attendance >= 75:\n",
        "        print(\"You passed either the grade or attendance requirement.\")\n",
        "    else:\n",
        "        print(\"You did not pass either the grade or attendance requirement.\")\n",
        "\n",
        "    # Using the 'not' operator (negates the condition)\n",
        "    if not (grade >= 35):\n",
        "        print(\"You need to improve your grade to pass.\")\n",
        "    if not (attendance >= 75):\n",
        "        print(\"You need to improve your attendance to pass.\")\n",
        "\n",
        "# Example values for grade and attendance\n",
        "grade = 45\n",
        "attendance = 80\n",
        "\n",
        "# Call the function with example values\n",
        "check_pass_status(grade, attendance)"
      ],
      "metadata": {
        "colab": {
          "base_uri": "https://localhost:8080/"
        },
        "id": "w8a2JT8yVIN1",
        "outputId": "3ac15c21-09a3-44bd-aa41-727c42726e09"
      },
      "execution_count": null,
      "outputs": [
        {
          "output_type": "stream",
          "name": "stdout",
          "text": [
            "You passed the course!\n",
            "You passed either the grade or attendance requirement.\n"
          ]
        }
      ]
    },
    {
      "cell_type": "code",
      "source": [],
      "metadata": {
        "id": "1f9hnJsNVe0N"
      },
      "execution_count": null,
      "outputs": []
    },
    {
      "cell_type": "markdown",
      "source": [
        "#### Q9. Write a Python program to convert user input from string to integer, float, and boolean types."
      ],
      "metadata": {
        "id": "mmFtSmtTWG5G"
      }
    },
    {
      "cell_type": "code",
      "source": [
        "# Function to demonstrate conversion of user input to different types\n",
        "def convert_input():\n",
        "    # Get user input as a string\n",
        "    user_input = input(\"Enter a value: \")\n",
        "\n",
        "    # Convert to integer\n",
        "    try:\n",
        "        int_value = int(user_input)\n",
        "        print(\"Converted to integer:\", int_value)\n",
        "    except ValueError:\n",
        "        print(\"Cannot convert to integer. Invalid input for integer.\")\n",
        "\n",
        "    # Convert to float\n",
        "    try:\n",
        "        float_value = float(user_input)\n",
        "        print(\"Converted to float:\", float_value)\n",
        "    except ValueError:\n",
        "        print(\"Cannot convert to float. Invalid input for float.\")\n",
        "\n",
        "    # Convert to boolean\n",
        "    if user_input.lower() in ['false', '0', '']:\n",
        "        bool_value = False\n",
        "    else:\n",
        "        bool_value = True\n",
        "    print(\"Converted to boolean:\", bool_value)\n",
        "\n",
        "# Call the function to convert user input\n",
        "convert_input()"
      ],
      "metadata": {
        "colab": {
          "base_uri": "https://localhost:8080/"
        },
        "id": "Fz1aXEUeW9Kc",
        "outputId": "256af17b-51e3-4e19-9bb2-383779145f55"
      },
      "execution_count": null,
      "outputs": [
        {
          "output_type": "stream",
          "name": "stdout",
          "text": [
            "Enter a value: Prabhath\n",
            "Cannot convert to integer. Invalid input for integer.\n",
            "Cannot convert to float. Invalid input for float.\n",
            "Converted to boolean: True\n"
          ]
        }
      ]
    },
    {
      "cell_type": "markdown",
      "source": [
        "#### Q10. Write code to demonstrate type casting with list elements."
      ],
      "metadata": {
        "id": "q0hs774bXZ7u"
      }
    },
    {
      "cell_type": "code",
      "source": [
        "# Function to demonstrate type casting with list elements\n",
        "def type_casting_with_list():\n",
        "    # Original list with mixed data types: integers, floats, and strings\n",
        "    mixed_list = [10, 3.14, \"25\", \"True\", 0, \"45.67\", False, 100]\n",
        "\n",
        "    # Convert all elements to strings\n",
        "    str_list = [str(item) for item in mixed_list]\n",
        "\n",
        "    # Convert all elements to integers where possible (using try-except)\n",
        "    int_list = []\n",
        "    for item in mixed_list:\n",
        "        try:\n",
        "            int_list.append(int(item))\n",
        "        except ValueError:\n",
        "            int_list.append(None)  # Append None if conversion fails\n",
        "\n",
        "    # Convert all elements to floats where possible (using try-except)\n",
        "    float_list = []\n",
        "    for item in mixed_list:\n",
        "        try:\n",
        "            float_list.append(float(item))\n",
        "        except ValueError:\n",
        "            float_list.append(None)  # Append None if conversion fails\n",
        "\n",
        "    # Convert all elements to booleans\n",
        "    bool_list = [bool(item) for item in mixed_list]\n",
        "\n",
        "    # Print original and converted lists\n",
        "    print(\"Original List:\", mixed_list)\n",
        "    print(\"Converted to Strings:\", str_list)\n",
        "    print(\"Converted to Integers:\", int_list)\n",
        "    print(\"Converted to Floats:\", float_list)\n",
        "    print(\"Converted to Booleans:\", bool_list)\n",
        "\n",
        "# Call the function to demonstrate type casting with list elements\n",
        "type_casting_with_list()"
      ],
      "metadata": {
        "colab": {
          "base_uri": "https://localhost:8080/"
        },
        "id": "rH1Mlzz-XSSt",
        "outputId": "6ee839e7-9781-4b91-a4de-fd624831a51f"
      },
      "execution_count": null,
      "outputs": [
        {
          "output_type": "stream",
          "name": "stdout",
          "text": [
            "Original List: [10, 3.14, '25', 'True', 0, '45.67', False, 100]\n",
            "Converted to Strings: ['10', '3.14', '25', 'True', '0', '45.67', 'False', '100']\n",
            "Converted to Integers: [10, 3, 25, None, 0, None, 0, 100]\n",
            "Converted to Floats: [10.0, 3.14, 25.0, None, 0.0, 45.67, 0.0, 100.0]\n",
            "Converted to Booleans: [True, True, True, True, False, True, False, True]\n"
          ]
        }
      ]
    },
    {
      "cell_type": "markdown",
      "source": [
        "#### Q11. Write a program that checks if a number is positive, negative, or zero."
      ],
      "metadata": {
        "id": "ZPRIas6fX0EW"
      }
    },
    {
      "cell_type": "code",
      "source": [
        "# Function to check if the number is positive, negative, or zero\n",
        "def check_number():\n",
        "    # Get user input and convert it to a float\n",
        "    num = float(input(\"Enter a number: \"))\n",
        "\n",
        "    # Check if the number is positive, negative, or zero\n",
        "    if num > 0:\n",
        "        print(\"The number is positive.\")\n",
        "    elif num < 0:\n",
        "        print(\"The number is negative.\")\n",
        "    else:\n",
        "        print(\"The number is zero.\")\n",
        "\n",
        "# Call the function to check the number\n",
        "check_number()"
      ],
      "metadata": {
        "colab": {
          "base_uri": "https://localhost:8080/"
        },
        "id": "Jooh3xeqXqGu",
        "outputId": "e89814f0-4351-456a-a891-761dce58f2e6"
      },
      "execution_count": null,
      "outputs": [
        {
          "output_type": "stream",
          "name": "stdout",
          "text": [
            "Enter a number: 0\n",
            "The number is zero.\n"
          ]
        }
      ]
    },
    {
      "cell_type": "markdown",
      "source": [
        "#### Q12. Write a for loop to print numbers from 1 to 10."
      ],
      "metadata": {
        "id": "3-TxOq6CYMH-"
      }
    },
    {
      "cell_type": "code",
      "source": [
        "# For loop to print numbers from 1 to 10\n",
        "for i in range(1, 11):\n",
        "    print(i)"
      ],
      "metadata": {
        "colab": {
          "base_uri": "https://localhost:8080/"
        },
        "id": "6OBiajZjYDvu",
        "outputId": "bc3d4fa9-6b1e-43d3-b396-1629ba059f7d"
      },
      "execution_count": null,
      "outputs": [
        {
          "output_type": "stream",
          "name": "stdout",
          "text": [
            "1\n",
            "2\n",
            "3\n",
            "4\n",
            "5\n",
            "6\n",
            "7\n",
            "8\n",
            "9\n",
            "10\n"
          ]
        }
      ]
    },
    {
      "cell_type": "markdown",
      "source": [
        "#### Q13. Write a Python program to find the sum of all even numbers between 1 and 50."
      ],
      "metadata": {
        "id": "fd6WvM51YctN"
      }
    },
    {
      "cell_type": "code",
      "source": [
        "# Program to find the sum of all even numbers between 1 and 50\n",
        "sum_of_even_numbers = 0\n",
        "\n",
        "# Loop through numbers from 1 to 50\n",
        "for i in range(1, 51):\n",
        "    # Check if the number is even\n",
        "    if i % 2 == 0:\n",
        "        sum_of_even_numbers += i  # Add the even number to the sum\n",
        "\n",
        "# Print the sum of even numbers\n",
        "print(\"The sum of all even numbers between 1 and 50 is:\", sum_of_even_numbers)"
      ],
      "metadata": {
        "colab": {
          "base_uri": "https://localhost:8080/"
        },
        "id": "qDsSdXjyYbXV",
        "outputId": "448bdd35-1c69-4bfb-ee0a-2d31672ac271"
      },
      "execution_count": null,
      "outputs": [
        {
          "output_type": "stream",
          "name": "stdout",
          "text": [
            "The sum of all even numbers between 1 and 50 is: 650\n"
          ]
        }
      ]
    },
    {
      "cell_type": "markdown",
      "source": [
        "#### Q14. Write a program to reverse a string using a while loop."
      ],
      "metadata": {
        "id": "8W8BeG2BbB99"
      }
    },
    {
      "cell_type": "code",
      "source": [
        "# Program to reverse a string using a while loop\n",
        "def reverse_string(s):\n",
        "    reversed_str = \"\"\n",
        "    index = len(s) - 1  # Set the index to the last character of the string\n",
        "\n",
        "    # Loop through the string backwards\n",
        "    while index >= 0:\n",
        "        reversed_str += s[index]  # Add the character at index to the reversed string\n",
        "        index -= 1  # Move the index to the left\n",
        "\n",
        "    return reversed_str\n",
        "\n",
        "# Input string\n",
        "input_string = input(\"Enter a string: \")\n",
        "\n",
        "# Reverse the string and print the result\n",
        "result = reverse_string(input_string)\n",
        "print(\"Reversed string:\", result)"
      ],
      "metadata": {
        "colab": {
          "base_uri": "https://localhost:8080/"
        },
        "id": "qpfoZKs7a29M",
        "outputId": "0a1deabe-4309-434f-d810-8f7cc269620d"
      },
      "execution_count": null,
      "outputs": [
        {
          "output_type": "stream",
          "name": "stdout",
          "text": [
            "Enter a string: Prabhath\n",
            "Reversed string: htahbarP\n"
          ]
        }
      ]
    },
    {
      "cell_type": "code",
      "source": [],
      "metadata": {
        "id": "e69f5NGqbU9t"
      },
      "execution_count": null,
      "outputs": []
    },
    {
      "cell_type": "markdown",
      "source": [
        "#### Q15. Write a Python program to calculate the factorial of a number provided by the user using a while loop."
      ],
      "metadata": {
        "id": "74syBy8_baKF"
      }
    },
    {
      "cell_type": "code",
      "source": [
        "# Program to calculate the factorial of a number using a while loop\n",
        "def calculate_factorial(n):\n",
        "    factorial = 1  # Initialize the factorial as 1\n",
        "    while n > 1:\n",
        "        factorial *= n  # Multiply the current factorial by n\n",
        "        n -= 1  # Decrease n by 1\n",
        "    return factorial\n",
        "\n",
        "# Input number from user\n",
        "num = int(input(\"Enter a number to calculate its factorial: \"))\n",
        "\n",
        "# Check if the number is negative\n",
        "if num < 0:\n",
        "    print(\"Factorial does not exist for negative numbers.\")\n",
        "else:\n",
        "    # Call the function and print the factorial\n",
        "    result = calculate_factorial(num)\n",
        "    print(f\"The factorial of {num} is: {result}\")"
      ],
      "metadata": {
        "colab": {
          "base_uri": "https://localhost:8080/"
        },
        "id": "30VUTF-Rbf77",
        "outputId": "6e23a807-eb9d-4a3b-cb63-919e893e387f"
      },
      "execution_count": null,
      "outputs": [
        {
          "output_type": "stream",
          "name": "stdout",
          "text": [
            "Enter a number to calculate its factorial: 3\n",
            "The factorial of 3 is: 6\n"
          ]
        }
      ]
    },
    {
      "cell_type": "code",
      "source": [],
      "metadata": {
        "id": "pbrIDVj_buJk"
      },
      "execution_count": null,
      "outputs": []
    }
  ]
}